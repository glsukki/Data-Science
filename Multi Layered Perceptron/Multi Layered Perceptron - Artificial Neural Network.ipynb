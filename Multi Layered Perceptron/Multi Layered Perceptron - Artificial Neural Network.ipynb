{
 "cells": [
  {
   "cell_type": "code",
   "execution_count": 1,
   "id": "80470cf3",
   "metadata": {},
   "outputs": [],
   "source": [
    "import numpy as np"
   ]
  },
  {
   "cell_type": "code",
   "execution_count": 2,
   "id": "130a534e",
   "metadata": {},
   "outputs": [
    {
     "name": "stdout",
     "output_type": "stream",
     "text": [
      "Demo [3. 9.]\n",
      "[[0.66666667 1.        ]\n",
      " [0.33333333 0.55555556]\n",
      " [1.         0.66666667]]\n",
      "[[0.92]\n",
      " [0.86]\n",
      " [0.89]]\n"
     ]
    }
   ],
   "source": [
    "X = np.array(([2, 9], [1, 5], [3, 6]), dtype=float)\n",
    "y = np.array(([92], [86], [89]), dtype=float)\n",
    "#print(X),k\n",
    "deno = np.amax(X,axis=0)\n",
    "print(\"Demo\",deno)\n",
    "X = X/deno\n",
    "y = y/100\n",
    "print(X)\n",
    "print(y)\n"
   ]
  },
  {
   "cell_type": "code",
   "execution_count": 3,
   "id": "5738f6c6",
   "metadata": {},
   "outputs": [],
   "source": [
    "def sigmoid (x):\n",
    "    return 1/(1 + np.exp(-x))\n",
    "\n",
    "def derivatives_sigmoid(x): \n",
    "    return x * (1 - x)\n"
   ]
  },
  {
   "cell_type": "code",
   "execution_count": 4,
   "id": "8e37625b",
   "metadata": {},
   "outputs": [],
   "source": [
    "iteration = 100\t#Setting training iterations\n",
    "error_rate =0.1 \t\t#Setting learning rate-error rate\n",
    "inputlayer_neurons = 2 \t\t#number of features in data set\n",
    "hiddenlayer_neurons = 3 \t#number of hidden layers neurons\n",
    "output_neurons = 1 \t\t#number of neurons at output layer\n"
   ]
  },
  {
   "cell_type": "code",
   "execution_count": 8,
   "id": "caf09c3d",
   "metadata": {},
   "outputs": [
    {
     "name": "stdout",
     "output_type": "stream",
     "text": [
      "Hidden Layer weights are as follows : \n",
      " [[0.59079776 0.4842306  0.22355601]\n",
      " [0.61369113 0.47067728 0.61783821]]\n",
      "Bias value for the Hidden layer neurons :  [[0.06887058 0.848121   0.16727604]]\n",
      "Output layer weights are as follows : \n",
      " [[0.94578551]\n",
      " [0.52874768]\n",
      " [0.44910562]]\n",
      "Bias value for the output layer neurons :  [[0.04236584]]\n",
      "(3, 2)\n"
     ]
    }
   ],
   "source": [
    "weight_hidden = np.random.uniform(size=(inputlayer_neurons,hiddenlayer_neurons))\n",
    "print(\"Hidden Layer weights are as follows : \\n\", weight_hidden)\n",
    "\n",
    "bias_hidden = np.random.uniform(size=(1,hiddenlayer_neurons))\n",
    "print(\"Bias value for the Hidden layer neurons : \",bias_hidden)\n",
    "\n",
    "weight_output = np.random.uniform(size=(hiddenlayer_neurons,output_neurons))\n",
    "print(\"Output layer weights are as follows : \\n\", weight_output)\n",
    "\n",
    "bias_output = np.random.uniform(size=(1,output_neurons))\n",
    "print(\"Bias value for the output layer neurons : \", bias_output)\n",
    "\n",
    "print(X.shape)\n"
   ]
  },
  {
   "cell_type": "code",
   "execution_count": 9,
   "id": "42c082f9",
   "metadata": {},
   "outputs": [
    {
     "name": "stdout",
     "output_type": "stream",
     "text": [
      "Input: \n",
      "[[0.66666667 1.        ]\n",
      " [0.33333333 0.55555556]\n",
      " [1.         0.66666667]]\n",
      "Actual Output: \n",
      "[[0.92]\n",
      " [0.86]\n",
      " [0.89]]\n",
      "Predicted Output: \n",
      " [[0.86726342]\n",
      " [0.84287744]\n",
      " [0.86522887]]\n"
     ]
    }
   ],
   "source": [
    "for i in range(iteration):\n",
    "    hidden_input = np.dot(X,weight_hidden) # h1 = w1*x1+w2*x2+w3*x3\n",
    "    hidden_input = hidden_input + bias_hidden # h1 = h1 + bias * bias weight\n",
    "    output_hidden_layer = sigmoid(hidden_input)\n",
    "    #print(output_hidden_layer)\n",
    "    \n",
    "    actual_output = np.dot(output_hidden_layer,weight_output) + bias_output\n",
    "    y_output = sigmoid(actual_output)\n",
    "    #print(\"predicted output\",y_output)\n",
    "    \n",
    "    #Backpropagation\n",
    "    EO = y-y_output\n",
    "    outgrad = derivatives_sigmoid(y_output)\n",
    "    d_output = EO* outgrad\n",
    "    EH = d_output.dot(weight_output.T)\n",
    "    hiddengrad = derivatives_sigmoid(output_hidden_layer)\n",
    "    d_hiddenlayer = EH * hiddengrad\n",
    "    \n",
    "    weight_output += output_hidden_layer.T.dot(d_output) *error_rate \n",
    "    weight_hidden += X.T.dot(d_hiddenlayer) *error_rate\n",
    "\n",
    "print(\"Input: \\n\" + str(X)) \n",
    "print(\"Actual Output: \\n\" + str(y))\n",
    "print(\"Predicted Output: \\n\" ,y_output)"
   ]
  },
  {
   "cell_type": "code",
   "execution_count": null,
   "id": "3041a633",
   "metadata": {},
   "outputs": [],
   "source": []
  }
 ],
 "metadata": {
  "kernelspec": {
   "display_name": "Python 3",
   "language": "python",
   "name": "python3"
  },
  "language_info": {
   "codemirror_mode": {
    "name": "ipython",
    "version": 3
   },
   "file_extension": ".py",
   "mimetype": "text/x-python",
   "name": "python",
   "nbconvert_exporter": "python",
   "pygments_lexer": "ipython3",
   "version": "3.8.8"
  }
 },
 "nbformat": 4,
 "nbformat_minor": 5
}
