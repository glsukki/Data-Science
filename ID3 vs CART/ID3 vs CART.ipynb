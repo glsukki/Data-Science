{
 "cells": [
  {
   "cell_type": "code",
   "execution_count": 45,
   "id": "580dfe7c",
   "metadata": {},
   "outputs": [],
   "source": [
    "# pip install sklearn"
   ]
  },
  {
   "cell_type": "code",
   "execution_count": 46,
   "id": "c8f2306f",
   "metadata": {},
   "outputs": [],
   "source": [
    "import pandas as pd\n",
    "import sklearn.metrics as met\n",
    "from sklearn import preprocessing\n",
    "from sklearn.tree import DecisionTreeClassifier\n",
    "from sklearn.model_selection import train_test_split"
   ]
  },
  {
   "cell_type": "code",
   "execution_count": 47,
   "id": "7dbcef9c",
   "metadata": {},
   "outputs": [
    {
     "data": {
      "text/html": [
       "<div>\n",
       "<style scoped>\n",
       "    .dataframe tbody tr th:only-of-type {\n",
       "        vertical-align: middle;\n",
       "    }\n",
       "\n",
       "    .dataframe tbody tr th {\n",
       "        vertical-align: top;\n",
       "    }\n",
       "\n",
       "    .dataframe thead th {\n",
       "        text-align: right;\n",
       "    }\n",
       "</style>\n",
       "<table border=\"1\" class=\"dataframe\">\n",
       "  <thead>\n",
       "    <tr style=\"text-align: right;\">\n",
       "      <th></th>\n",
       "      <th>no-recurrence-events</th>\n",
       "      <th>30-39</th>\n",
       "      <th>premeno</th>\n",
       "      <th>30-34</th>\n",
       "      <th>0-2</th>\n",
       "      <th>no</th>\n",
       "      <th>3</th>\n",
       "      <th>left</th>\n",
       "      <th>left_low</th>\n",
       "      <th>no.1</th>\n",
       "    </tr>\n",
       "  </thead>\n",
       "  <tbody>\n",
       "    <tr>\n",
       "      <th>0</th>\n",
       "      <td>no-recurrence-events</td>\n",
       "      <td>40-49</td>\n",
       "      <td>premeno</td>\n",
       "      <td>20-24</td>\n",
       "      <td>0-2</td>\n",
       "      <td>no</td>\n",
       "      <td>2</td>\n",
       "      <td>right</td>\n",
       "      <td>right_up</td>\n",
       "      <td>no</td>\n",
       "    </tr>\n",
       "    <tr>\n",
       "      <th>1</th>\n",
       "      <td>no-recurrence-events</td>\n",
       "      <td>40-49</td>\n",
       "      <td>premeno</td>\n",
       "      <td>20-24</td>\n",
       "      <td>0-2</td>\n",
       "      <td>no</td>\n",
       "      <td>2</td>\n",
       "      <td>left</td>\n",
       "      <td>left_low</td>\n",
       "      <td>no</td>\n",
       "    </tr>\n",
       "    <tr>\n",
       "      <th>2</th>\n",
       "      <td>no-recurrence-events</td>\n",
       "      <td>60-69</td>\n",
       "      <td>ge40</td>\n",
       "      <td>15-19</td>\n",
       "      <td>0-2</td>\n",
       "      <td>no</td>\n",
       "      <td>2</td>\n",
       "      <td>right</td>\n",
       "      <td>left_up</td>\n",
       "      <td>no</td>\n",
       "    </tr>\n",
       "    <tr>\n",
       "      <th>3</th>\n",
       "      <td>no-recurrence-events</td>\n",
       "      <td>40-49</td>\n",
       "      <td>premeno</td>\n",
       "      <td>0-4</td>\n",
       "      <td>0-2</td>\n",
       "      <td>no</td>\n",
       "      <td>2</td>\n",
       "      <td>right</td>\n",
       "      <td>right_low</td>\n",
       "      <td>no</td>\n",
       "    </tr>\n",
       "    <tr>\n",
       "      <th>4</th>\n",
       "      <td>no-recurrence-events</td>\n",
       "      <td>60-69</td>\n",
       "      <td>ge40</td>\n",
       "      <td>15-19</td>\n",
       "      <td>0-2</td>\n",
       "      <td>no</td>\n",
       "      <td>2</td>\n",
       "      <td>left</td>\n",
       "      <td>left_low</td>\n",
       "      <td>no</td>\n",
       "    </tr>\n",
       "  </tbody>\n",
       "</table>\n",
       "</div>"
      ],
      "text/plain": [
       "   no-recurrence-events  30-39  premeno  30-34  0-2  no  3   left   left_low  \\\n",
       "0  no-recurrence-events  40-49  premeno  20-24  0-2  no  2  right   right_up   \n",
       "1  no-recurrence-events  40-49  premeno  20-24  0-2  no  2   left   left_low   \n",
       "2  no-recurrence-events  60-69     ge40  15-19  0-2  no  2  right    left_up   \n",
       "3  no-recurrence-events  40-49  premeno    0-4  0-2  no  2  right  right_low   \n",
       "4  no-recurrence-events  60-69     ge40  15-19  0-2  no  2   left   left_low   \n",
       "\n",
       "  no.1  \n",
       "0   no  \n",
       "1   no  \n",
       "2   no  \n",
       "3   no  \n",
       "4   no  "
      ]
     },
     "execution_count": 47,
     "metadata": {},
     "output_type": "execute_result"
    }
   ],
   "source": [
    "cancer = pd.read_csv(\"breast-cancer.data\")\n",
    "cancer_df = pd.DataFrame(cancer)\n",
    "cancer_df.head()"
   ]
  },
  {
   "cell_type": "code",
   "execution_count": 68,
   "id": "4080864d",
   "metadata": {},
   "outputs": [
    {
     "name": "stdout",
     "output_type": "stream",
     "text": [
      "DecisionTreeClassifier(criterion='entropy')\n",
      "DecisionTreeClassifier()\n"
     ]
    }
   ],
   "source": [
    "# LabelEncoder to determine the total number of classes present in a given attribute\n",
    "classLabel = preprocessing.LabelEncoder()\n",
    "ID3_model = DecisionTreeClassifier(criterion = \"entropy\")\n",
    "# By default it will be Gini\n",
    "CART_model = DecisionTreeClassifier()\n",
    "print(ID3_model)\n",
    "print(CART_model)"
   ]
  },
  {
   "cell_type": "code",
   "execution_count": 55,
   "id": "dd32501c",
   "metadata": {},
   "outputs": [
    {
     "name": "stdout",
     "output_type": "stream",
     "text": [
      "[[0 2 2 ... 1 1 5]\n",
      " [0 2 2 ... 1 0 2]\n",
      " [0 4 0 ... 1 1 3]\n",
      " ...\n",
      " [1 4 0 ... 0 1 3]\n",
      " [1 2 0 ... 2 0 2]\n",
      " [1 3 0 ... 2 0 2]]\n",
      "[0 0 0 0 0 0 0 0 0 0 0 0 0 0 0 0 0 0 0 0 0 0 0 0 0 0 0 0 0 0 0 0 0 0 0 0 0\n",
      " 0 0 0 0 0 0 0 0 0 0 0 0 0 0 0 0 0 0 0 0 0 0 0 0 0 0 0 0 0 0 0 0 0 0 0 0 0\n",
      " 0 0 0 0 0 0 0 0 0 0 0 0 0 0 0 0 0 0 0 0 0 0 0 0 0 0 0 0 0 0 0 0 0 0 0 0 0\n",
      " 0 0 0 0 0 0 0 0 0 0 0 0 0 0 0 1 0 1 1 1 0 0 1 0 1 1 1 0 0 0 0 1 0 1 1 1 0\n",
      " 0 0 0 0 1 0 1 0 0 0 0 1 0 1 1 1 0 0 1 0 1 1 0 0 0 1 1 0 0 1 1 1 1 1 1 1 1\n",
      " 0 1 0 0 1 1 0 0 1 0 0 1 1 0 0 0 0 0 0 0 0 0 0 0 0 0 0 0 0 0 0 0 0 0 0 0 1\n",
      " 0 1 1 0 1 0 1 0 0 1 1 1 1 0 0 0 1 1 0 1 0 1 1 1 1 0 0 0 1 0 0 0 0 1 1 1 0\n",
      " 0 1 0 0 0 0 0 1 0 1 0 1 0 1 1 0 1 1 0 1 1 0 1 0 0 0]\n"
     ]
    }
   ],
   "source": [
    "# Creating a list of all the attributes except the Target Class\n",
    "X = cancer_df.iloc[:, :-1].values\n",
    "# creating a list of Target Class values\n",
    "Y = cancer_df.iloc[:,-1].values\n",
    "# print(X)\n",
    "# print(Y)\n",
    "\n",
    "# # Checking the number of columns in the given dataSet - the TargetClass = 10 - 1 = 9 \n",
    "# cancer_df.columns\n",
    "\n",
    "# The below code is used to take the individual values of each record for a given column\n",
    "# and then determine the number of classes - using LabelEncoder.fit() and then transform them into numerical values\n",
    "# and then assign them back into X\n",
    "for i in range(9):\n",
    "    classLabel.fit(list(set(cancer_df.iloc[:, i].values)))\n",
    "    a = []\n",
    "    # Iterating through each of the row (j) for every column (i)\n",
    "    for j in range(len(X)):\n",
    "        a.append(X[j][i])\n",
    "    # LabelEncoder.transform() - is used to assign a numerical value to a non-numerical valued class\n",
    "    # LabelEncode.inverse_transform() - is used to assign a non-numerical value to a numerical valued class\n",
    "    a = classLabel.transform(a)\n",
    "    for j in range(len(X)):\n",
    "        X[j][i] = a[j]\n",
    "\n",
    "# Performing the same operation as above for the targetClass \n",
    "classLabel.fit(list(set(cancer_df.iloc[:, -1].values)))\n",
    "a = []\n",
    "for j in range(len(X)):\n",
    "    a.append(Y[j])\n",
    "a = classLabel.transform(a)\n",
    "for j in range(len(X)):\n",
    "    Y[j] = a[j]\n",
    "\n",
    "# Displaying the converted dataset - into a list of numerical equivalent values\n",
    "# X - list of all columns except the TargetClass\n",
    "# Y - list of TargetClass values\n",
    "print(X)\n",
    "print(Y)\n",
    "\n"
   ]
  },
  {
   "cell_type": "code",
   "execution_count": 59,
   "id": "92371710",
   "metadata": {},
   "outputs": [
    {
     "name": "stdout",
     "output_type": "stream",
     "text": [
      "[[0 2 2 ... 1 0 3]\n",
      " [0 2 2 ... 1 0 2]\n",
      " [0 3 2 ... 0 0 2]\n",
      " ...\n",
      " [0 3 2 ... 1 1 4]\n",
      " [1 2 2 ... 1 1 2]\n",
      " [0 2 2 ... 1 0 2]]\n",
      "[0 1 0 0 0 1 0 1 0 0 0 0 1 0 0 0 0 0 0 0 0 0 0 1 0 0 0 0 0 0 0 1 0 0 0 0 0\n",
      " 0 0 0 0 1 0 1 0 0 1 0 0 1 1 0 1 0 1 0 1 0 0 0 0 0 1 0 1 0 0 0 0 0 0 0 0 0\n",
      " 0 0 0 0 0 0 0 0 0 0 0 0 0 0 1 0 0 0 0 1 0 0 1 0 0 0 0 0 0 0 0 0 0 0 0 0 0\n",
      " 1 0 0 0 0 0 0 1 1 1 0 0 1 0 0 1 0 1 1 0 1 0 0 0 0 0 0 0 1 1 0 0 0 0 1 0 0\n",
      " 1 0 0 0 0 1 0 1 1 0 1 0 1 1 0 0 0 1 0 0 0 0 1 0 0 0 1 0 0 0 1 0 0 1 0 1 0\n",
      " 1 1 0 1 0 0 0 0 0 1 0 0 0 0 0 1 1 1 1 0 0 0 0 0 0 0 0 0 0 0 0 0 0 0 0 1 0\n",
      " 0 0 0 0 0 1 0 0 0 0 0 0 0 0 0 0 0 1 0 0 0 0 0 0 1 0 0 1 1 1 0 1 0 0 0]\n"
     ]
    }
   ],
   "source": [
    "# Training the model\n",
    "# list.astype(dataType) - is used to convert the dataType of the entire list\n",
    "Y = Y.astype('int')\n",
    "Xtrain, Xtest, Ytrain, Ytest = train_test_split(X, Y, test_size =int(0.1*len(Y)), random_state = 1)\n",
    "print(Xtrain) \n",
    "print(Ytrain)\n",
    "\n",
    "ID3_model_trained = ID3_model.fit(Xtrain, Ytrain)\n",
    "CART_model_trained = CART_model.fit(Xtrain, Ytrain)\n",
    "Y_predict_ID3 = ID3_model_trained.predict(Xtest)\n",
    "Y_predict_CART = CART_model_trained.predict(Xtest)"
   ]
  },
  {
   "cell_type": "code",
   "execution_count": 66,
   "id": "23ab82be",
   "metadata": {},
   "outputs": [
    {
     "name": "stdout",
     "output_type": "stream",
     "text": [
      "ID3 Metrics : \n",
      "Accuracy =  0.75\n",
      "Error Rate =  0.25\n",
      "Recall =  0.75\n",
      "Precision =  0.7304347826086957\n",
      "F1 score =  0.7298747763864044\n"
     ]
    }
   ],
   "source": [
    "# Results of ID3\n",
    "\n",
    "print(\"ID3 Metrics : \")\n",
    "print(\"Accuracy = \", met.accuracy_score(Ytest, Y_predict_ID3))\n",
    "print(\"Error Rate = \", 1 - met.accuracy_score(Ytest, Y_predict_ID3))\n",
    "print(\"Recall = \", met.recall_score(Ytest, Y_predict_ID3, average='weighted'))\n",
    "print(\"Precision = \", met.precision_score(Ytest, Y_predict_ID3, average='weighted'))\n",
    "print(\"F1 score = \", met.f1_score(Ytest, Y_predict_ID3, average='weighted'))"
   ]
  },
  {
   "cell_type": "code",
   "execution_count": 67,
   "id": "551d568d",
   "metadata": {},
   "outputs": [
    {
     "name": "stdout",
     "output_type": "stream",
     "text": [
      "CART Metrics : \n",
      "Accuracy =  0.7857142857142857\n",
      "Error Rate =  0.2142857142857143\n",
      "Recall =  0.7857142857142857\n",
      "Precision =  0.7797619047619048\n",
      "F1 score =  0.7597402597402596\n"
     ]
    }
   ],
   "source": [
    "# Results of CART\n",
    "\n",
    "print(\"CART Metrics : \")\n",
    "print(\"Accuracy = \", met.accuracy_score(Ytest, Y_predict_CART))\n",
    "print(\"Error Rate = \", 1 - met.accuracy_score(Ytest, Y_predict_CART))\n",
    "print(\"Recall = \", met.recall_score(Ytest, Y_predict_CART, average='weighted'))\n",
    "print(\"Precision = \", met.precision_score(Ytest, Y_predict_CART, average='weighted'))\n",
    "print(\"F1 score = \", met.f1_score(Ytest, Y_predict_CART, average='weighted'))"
   ]
  }
 ],
 "metadata": {
  "kernelspec": {
   "display_name": "Python 3 (ipykernel)",
   "language": "python",
   "name": "python3"
  },
  "language_info": {
   "codemirror_mode": {
    "name": "ipython",
    "version": 3
   },
   "file_extension": ".py",
   "mimetype": "text/x-python",
   "name": "python",
   "nbconvert_exporter": "python",
   "pygments_lexer": "ipython3",
   "version": "3.9.6"
  }
 },
 "nbformat": 4,
 "nbformat_minor": 5
}
