{
 "cells": [
  {
   "cell_type": "code",
   "execution_count": 20,
   "id": "07d244f4",
   "metadata": {},
   "outputs": [],
   "source": [
    "import numpy as np\n",
    "import pandas as pd"
   ]
  },
  {
   "cell_type": "code",
   "execution_count": 21,
   "id": "6c45b87f",
   "metadata": {},
   "outputs": [],
   "source": [
    "# Generating a dummy dataset\n",
    "# randint(start, stop, numberLimit)\n",
    "X = np.random.randint(10, 50, 100).reshape(20,5)\n",
    "# X = [[4, 11], [8, 4], [13, 5], [7, 14]]\n",
    "# print(X)\n",
    "\n",
    "# mean centering the data\n",
    "# axis = 0 implies that the mean is calculated on each column, i.e., vertically\n",
    "X_meaned = X - np.mean(X, axis = 0)\n",
    "# print(X_meaned)"
   ]
  },
  {
   "cell_type": "code",
   "execution_count": 22,
   "id": "b597cae0",
   "metadata": {},
   "outputs": [],
   "source": [
    "# if rowvar = True, then rows are variables and columns are observations\n",
    "covariance_matrix = np.cov(X_meaned, rowvar = False)\n",
    "# print(covariance_matrix)"
   ]
  },
  {
   "cell_type": "code",
   "execution_count": 23,
   "id": "753ba34e",
   "metadata": {},
   "outputs": [
    {
     "name": "stdout",
     "output_type": "stream",
     "text": [
      "[ 39.67757079 112.89117052 132.9582837  152.87183065 257.89851276]\n",
      "[[ 0.52954264  0.45434797  0.23892529 -0.5457519   0.39777139]\n",
      " [-0.57635048 -0.3753433   0.32004676 -0.63904897  0.12698039]\n",
      " [ 0.041607   -0.35904807 -0.55366462  0.0448766   0.74886242]\n",
      " [ 0.3677713  -0.52729326  0.65656754  0.34488947  0.19151083]\n",
      " [-0.50041766  0.49571326  0.3207169   0.41570256  0.4776846 ]]\n"
     ]
    }
   ],
   "source": [
    "# Calculate the Eigen values and it's corresponding Eigen Vectors from the Covariance Matrix\n",
    "# it returns eigen_values -> 1D and eigen_vector -> of N Dimension, where N = number of variables\n",
    "# linalg -> linearAlgebra\n",
    "eigen_values, eigen_vectors = np.linalg.eigh(covariance_matrix)\n",
    "print(eigen_values)\n",
    "print(eigen_vectors)"
   ]
  },
  {
   "cell_type": "code",
   "execution_count": 24,
   "id": "5e374144",
   "metadata": {},
   "outputs": [
    {
     "name": "stdout",
     "output_type": "stream",
     "text": [
      "[257.89851276 152.87183065 132.9582837  112.89117052  39.67757079]\n",
      "[[ 0.39777139 -0.5457519   0.23892529  0.45434797  0.52954264]\n",
      " [ 0.12698039 -0.63904897  0.32004676 -0.3753433  -0.57635048]\n",
      " [ 0.74886242  0.0448766  -0.55366462 -0.35904807  0.041607  ]\n",
      " [ 0.19151083  0.34488947  0.65656754 -0.52729326  0.3677713 ]\n",
      " [ 0.4776846   0.41570256  0.3207169   0.49571326 -0.50041766]]\n"
     ]
    }
   ],
   "source": [
    "# Sorting the eigen values in descending order, by doing this the columns in the eigen_vector matrix will also get reshuffled as per descending order of the eigen value\n",
    "sorted_index = np.argsort(eigen_values)[::-1]\n",
    "# print(sorted_index)\n",
    "sorted_eigen_values = eigen_values[sorted_index]\n",
    "print(sorted_eigen_values)\n",
    "sorted_eigen_vectors = eigen_vectors[:, sorted_index]\n",
    "print(sorted_eigen_vectors)"
   ]
  },
  {
   "cell_type": "code",
   "execution_count": 25,
   "id": "f75e74e0",
   "metadata": {},
   "outputs": [
    {
     "name": "stdout",
     "output_type": "stream",
     "text": [
      "[257.89851276 152.87183065]\n",
      "[[ 0.39777139 -0.5457519 ]\n",
      " [ 0.12698039 -0.63904897]\n",
      " [ 0.74886242  0.0448766 ]\n",
      " [ 0.19151083  0.34488947]\n",
      " [ 0.4776846   0.41570256]]\n"
     ]
    }
   ],
   "source": [
    "# reducing the number of dimensions to n\n",
    "# the first 'n' eigen values in the sorted_eigen_values will be selected\n",
    "n_components = 2\n",
    "selected_eigen_values = sorted_eigen_values[: n_components]\n",
    "print(selected_eigen_values)\n",
    "selected_eigen_vectors = sorted_eigen_vectors[:, 0: n_components]\n",
    "print(selected_eigen_vectors)"
   ]
  },
  {
   "cell_type": "code",
   "execution_count": 26,
   "id": "d85d93d6",
   "metadata": {},
   "outputs": [
    {
     "name": "stdout",
     "output_type": "stream",
     "text": [
      "[[ 42.31722431   5.98772019]\n",
      " [ 59.5804389   -2.69044621]\n",
      " [ 71.46317836 -16.14942806]\n",
      " [ 81.6054247  -24.45071197]\n",
      " [ 41.05373742  -9.06748934]\n",
      " [ 76.2369001   13.12297865]\n",
      " [ 76.48337567 -16.24018415]\n",
      " [ 60.09389586  -8.36756348]\n",
      " [ 57.59174488 -19.94117322]\n",
      " [ 29.41893915 -21.90073487]\n",
      " [ 73.67090275  14.81555988]\n",
      " [ 49.19525888 -10.2984548 ]\n",
      " [ 43.45550509 -19.14234534]\n",
      " [ 59.08203284  -3.69584995]\n",
      " [ 67.64646947 -25.10853547]\n",
      " [ 79.26031267 -19.28794592]\n",
      " [ 43.99362352 -24.67468609]\n",
      " [ 34.47768116   0.84313601]\n",
      " [ 75.05163268 -13.52046421]\n",
      " [ 53.45348083   1.50505796]]\n"
     ]
    }
   ],
   "source": [
    "# Obtaining the new dataset\n",
    "# X_reduced = np.dot(selected_eigen_vectors.transpose(),X.transpose()).transpose()\n",
    "\n",
    "transformed_dataset = np.dot(X, selected_eigen_vectors)\n",
    "print(transformed_dataset)\n",
    "# print(X_reduced)"
   ]
  }
 ],
 "metadata": {
  "kernelspec": {
   "display_name": "Python 3",
   "language": "python",
   "name": "python3"
  },
  "language_info": {
   "codemirror_mode": {
    "name": "ipython",
    "version": 3
   },
   "file_extension": ".py",
   "mimetype": "text/x-python",
   "name": "python",
   "nbconvert_exporter": "python",
   "pygments_lexer": "ipython3",
   "version": "3.8.8"
  }
 },
 "nbformat": 4,
 "nbformat_minor": 5
}
